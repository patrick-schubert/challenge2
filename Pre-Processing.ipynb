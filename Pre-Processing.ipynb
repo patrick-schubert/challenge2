{
 "cells": [
  {
   "cell_type": "code",
   "execution_count": 1,
   "metadata": {},
   "outputs": [
    {
     "name": "stderr",
     "output_type": "stream",
     "text": [
      "Using TensorFlow backend.\n"
     ]
    }
   ],
   "source": [
    "\n",
    "import tensorflow as tf\n",
    "import os\n",
    "\n",
    "data_folder = '/home/dados229/luciana/BayesianProjects/BayesianChallenge2/deepbayesianstronglensing-master/data/DataChallenge2'\n",
    "\n",
    "os.environ[\"CUDA_VISIBLE_DEVICES\"] = '0'\n",
    "\n",
    "import numpy as np\n",
    "from time import time\n",
    "import matplotlib\n",
    "from utils._time import ElapsedTime\n",
    "import keras.backend as K\n",
    "import warnings\n",
    "warnings.filterwarnings(\"ignore\")\n",
    "from astropy.io import fits\n",
    "from keras.utils import Progbar\n",
    "import matplotlib.pyplot as plt\n",
    "\n",
    "%matplotlib inline"
   ]
  },
  {
   "cell_type": "code",
   "execution_count": 10,
   "metadata": {},
   "outputs": [
    {
     "name": "stdout",
     "output_type": "stream",
     "text": [
      "13900/99999 [===>..........................] - ETA: 17:08\tSkipping index: 13912 (ID: 213913)\n",
      "26300/99999 [======>.......................] - ETA: 13:52\tSkipping index: 26304 (ID: 226305)\n",
      "33500/99999 [=========>....................] - ETA: 12:28\tSkipping index: 33596 (ID: 233597)\n",
      "44000/99999 [============>.................] - ETA: 10:36\tSkipping index: 44070 (ID: 244071)\n",
      "59800/99999 [================>.............] - ETA: 7:44\tSkipping index: 59870 (ID: 259871)\n",
      "61100/99999 [=================>............] - ETA: 7:30\tSkipping index: 61144 (ID: 261145)\n",
      "70400/99999 [====================>.........] - ETA: 5:48\tSkipping index: 70457 (ID: 270458)\n",
      "88700/99999 [=========================>....] - ETA: 2:17\tSkipping index: 88730 (ID: 288731)\n",
      "94100/99999 [===========================>..] - ETA: 1:12\tSkipping index: 94172 (ID: 294173)\n",
      "99900/99999 [============================>.] - ETA: 1s"
     ]
    },
    {
     "ename": "PermissionError",
     "evalue": "[Errno 13] Permission denied: '/home/dados229/cenpes/DataChallenge2/idxs2keep.npy'",
     "output_type": "error",
     "traceback": [
      "\u001b[0;31m---------------------------------------------------------------------------\u001b[0m",
      "\u001b[0;31mPermissionError\u001b[0m                           Traceback (most recent call last)",
      "\u001b[0;32m<ipython-input-10-fa5b7c6e8ed4>\u001b[0m in \u001b[0;36m<module>\u001b[0;34m\u001b[0m\n\u001b[1;32m     59\u001b[0m     \u001b[0;34m\"\"\" Now save to numpy file \"\"\"\u001b[0m\u001b[0;34m\u001b[0m\u001b[0m\n\u001b[1;32m     60\u001b[0m     \u001b[0mnp\u001b[0m\u001b[0;34m.\u001b[0m\u001b[0msave\u001b[0m\u001b[0;34m(\u001b[0m\u001b[0mos\u001b[0m\u001b[0;34m.\u001b[0m\u001b[0mpath\u001b[0m\u001b[0;34m.\u001b[0m\u001b[0mjoin\u001b[0m\u001b[0;34m(\u001b[0m\u001b[0mdata_dir\u001b[0m\u001b[0;34m,\u001b[0m\u001b[0;34m'images_hjy.npy'\u001b[0m\u001b[0;34m)\u001b[0m\u001b[0;34m,\u001b[0m \u001b[0mimages\u001b[0m\u001b[0;34m)\u001b[0m\u001b[0;34m\u001b[0m\u001b[0m\n\u001b[0;32m---> 61\u001b[0;31m     \u001b[0mnp\u001b[0m\u001b[0;34m.\u001b[0m\u001b[0msave\u001b[0m\u001b[0;34m(\u001b[0m\u001b[0mos\u001b[0m\u001b[0;34m.\u001b[0m\u001b[0mpath\u001b[0m\u001b[0;34m.\u001b[0m\u001b[0mjoin\u001b[0m\u001b[0;34m(\u001b[0m\u001b[0mdata_dir\u001b[0m\u001b[0;34m,\u001b[0m\u001b[0;34m'idxs2keep.npy'\u001b[0m\u001b[0;34m)\u001b[0m\u001b[0;34m,\u001b[0m \u001b[0mnp\u001b[0m\u001b[0;34m.\u001b[0m\u001b[0marray\u001b[0m\u001b[0;34m(\u001b[0m\u001b[0midxs2keep\u001b[0m\u001b[0;34m)\u001b[0m\u001b[0;34m)\u001b[0m\u001b[0;34m\u001b[0m\u001b[0m\n\u001b[0m",
      "\u001b[0;32m~/anaconda3/envs/ELG/lib/python3.6/site-packages/numpy/lib/npyio.py\u001b[0m in \u001b[0;36msave\u001b[0;34m(file, arr, allow_pickle, fix_imports)\u001b[0m\n\u001b[1;32m    522\u001b[0m         \u001b[0;32mif\u001b[0m \u001b[0;32mnot\u001b[0m \u001b[0mfile\u001b[0m\u001b[0;34m.\u001b[0m\u001b[0mendswith\u001b[0m\u001b[0;34m(\u001b[0m\u001b[0;34m'.npy'\u001b[0m\u001b[0;34m)\u001b[0m\u001b[0;34m:\u001b[0m\u001b[0;34m\u001b[0m\u001b[0m\n\u001b[1;32m    523\u001b[0m             \u001b[0mfile\u001b[0m \u001b[0;34m=\u001b[0m \u001b[0mfile\u001b[0m \u001b[0;34m+\u001b[0m \u001b[0;34m'.npy'\u001b[0m\u001b[0;34m\u001b[0m\u001b[0m\n\u001b[0;32m--> 524\u001b[0;31m         \u001b[0mfid\u001b[0m \u001b[0;34m=\u001b[0m \u001b[0mopen\u001b[0m\u001b[0;34m(\u001b[0m\u001b[0mfile\u001b[0m\u001b[0;34m,\u001b[0m \u001b[0;34m\"wb\"\u001b[0m\u001b[0;34m)\u001b[0m\u001b[0;34m\u001b[0m\u001b[0m\n\u001b[0m\u001b[1;32m    525\u001b[0m         \u001b[0mown_fid\u001b[0m \u001b[0;34m=\u001b[0m \u001b[0;32mTrue\u001b[0m\u001b[0;34m\u001b[0m\u001b[0m\n\u001b[1;32m    526\u001b[0m \u001b[0;34m\u001b[0m\u001b[0m\n",
      "\u001b[0;31mPermissionError\u001b[0m: [Errno 13] Permission denied: '/home/dados229/cenpes/DataChallenge2/idxs2keep.npy'"
     ]
    }
   ],
   "source": [
    "data_dir = '/home/dados229/cenpes/DataChallenge2/'\n",
    "catalog_name = 'image_catalog2.0train_corrigido.csv'\n",
    "\n",
    "\"\"\" Load catalog before images \"\"\"\n",
    "import pandas as pd \n",
    "catalog = pd.read_csv(os.path.join(data_dir, catalog_name), header = 0) # 28 for old catalog\n",
    "\n",
    "\"\"\" Now load images using catalog's IDs \"\"\"\n",
    "from skimage.transform import resize\n",
    "channels = ['H','J','Y']\n",
    "#channels = ['VIS']\n",
    "nsamples = len(catalog['ID'])\n",
    "idxs2keep = []\n",
    "\n",
    "reload = False\n",
    "\n",
    "\"\"\" Try to load numpy file with images \"\"\"\n",
    "if os.path.isfile(os.path.join(data_dir,'images_hjy.npy')) and not reload:  \n",
    "    images = np.load(os.path.join(data_dir,'images_hjy.npy'))\n",
    "    idxs2keep = list(np.load(os.path.join(data_dir,'idxs2keep.npy')))\n",
    "else:\n",
    "    images = None\n",
    "    \"\"\" Loop thru indexes \"\"\"\n",
    "    pbar = Progbar(nsamples-1)\n",
    "    for iid,cid in enumerate(catalog['ID']): #enumerate(catalog['ID']):\n",
    "\n",
    "        \"\"\" Loop thru channels\"\"\"\n",
    "        for ich,ch in enumerate(channels):\n",
    "\n",
    "            \"\"\" Init image dir and name \"\"\"\n",
    "            image_file = os.path.join(data_dir,\n",
    "                                      'Train',\n",
    "                                      'Public',\n",
    "                                      'EUC_' + ch,\n",
    "                                      'imageEUC_{}-{}.fits'.format(ch,cid))\n",
    "\n",
    "            if os.path.isfile(image_file):\n",
    "\n",
    "                \"\"\" Import data with astropy \"\"\"\n",
    "                image_data = fits.getdata(image_file, ext=0)\n",
    "                #image_data = resize(image_data, (100,100))\n",
    "                \n",
    "                \"\"\" Initialize images array in case we haven't done it yet \"\"\"\n",
    "                if images is None:\n",
    "                    images = np.zeros((nsamples,*image_data.shape,len(channels)))\n",
    "\n",
    "                \"\"\" Set data in array \"\"\"\n",
    "                images[iid,:,:,ich] = image_data\n",
    "                if iid not in idxs2keep: \n",
    "                    idxs2keep.append(iid)\n",
    "            else:\n",
    "                print('\\tSkipping index: {} (ID: {})'.format(iid,cid))\n",
    "                break\n",
    "\n",
    "\n",
    "        if iid%100 == 0 and iid != 0:\n",
    "            pbar.update(iid)\n",
    "\n",
    "    \"\"\" Now save to numpy file \"\"\"\n",
    "    np.save(os.path.join(data_dir,'images_hjy.npy'), images)\n",
    "    np.save(os.path.join(data_dir,'idxs2keep.npy'), np.array(idxs2keep))"
   ]
  },
  {
   "cell_type": "code",
   "execution_count": 2,
   "metadata": {},
   "outputs": [],
   "source": [
    "data_dir = '/home/dados229/cenpes/DataChallenge2/'\n",
    "catalog_name = 'image_catalog2.0train_corrigido.csv'\n",
    "\n",
    "images_vis = np.load(os.path.join(data_dir,'images_vis.npy'))\n",
    "images_hjy = np.load(os.path.join(data_dir,'images_hjy.npy'))\n",
    "idxs2keep = list(np.load(os.path.join(data_dir,'idxs2keep.npy')))"
   ]
  },
  {
   "cell_type": "code",
   "execution_count": 3,
   "metadata": {},
   "outputs": [],
   "source": [
    "import pandas as pd \n",
    "catalog = pd.read_csv(os.path.join(data_dir, catalog_name), header = 0) # 28 for old catalog"
   ]
  },
  {
   "cell_type": "markdown",
   "metadata": {},
   "source": [
    "### Delete invalid indexes"
   ]
  },
  {
   "cell_type": "code",
   "execution_count": 4,
   "metadata": {},
   "outputs": [],
   "source": [
    "catalog = catalog.loc[idxs2keep]\n",
    "images_vis = images_vis[idxs2keep]\n",
    "images_hjy = images_hjy[idxs2keep]"
   ]
  },
  {
   "cell_type": "code",
   "execution_count": 5,
   "metadata": {},
   "outputs": [
    {
     "data": {
      "text/plain": [
       "(99991, 200, 200, 1)"
      ]
     },
     "execution_count": 5,
     "metadata": {},
     "output_type": "execute_result"
    }
   ],
   "source": [
    "print(images_vis.shape, images_hjy.shape)"
   ]
  },
  {
   "cell_type": "code",
   "execution_count": 14,
   "metadata": {},
   "outputs": [
    {
     "data": {
      "text/plain": [
       "4.623768815742446e-12"
      ]
     },
     "execution_count": 14,
     "metadata": {},
     "output_type": "execute_result"
    }
   ],
   "source": [
    "vis_p_max = np.percentile(images_vis, 98)\n",
    "vis_p_max"
   ]
  },
  {
   "cell_type": "code",
   "execution_count": 10,
   "metadata": {},
   "outputs": [
    {
     "data": {
      "text/plain": [
       "-1.5977605523354033e-12"
      ]
     },
     "execution_count": 10,
     "metadata": {},
     "output_type": "execute_result"
    }
   ],
   "source": [
    "vis_p_min = -(np.percentile(-images_vis, 99.9))\n",
    "vis_p_min"
   ]
  },
  {
   "cell_type": "code",
   "execution_count": 11,
   "metadata": {},
   "outputs": [
    {
     "data": {
      "image/png": "[encoded data removed]",
      "text/plain": [
       "<Figure size 432x288 with 1 Axes>"
      ]
     },
     "metadata": {
      "needs_background": "light"
     },
     "output_type": "display_data"
    }
   ],
   "source": [
    "#vis_min = images_vis.min()\n",
    "#vis_max = images_vis.max()\n",
    "\n",
    "#print(f\"Vis_Min: {vis_min} | Vis_Max: {vis_max}\")\n",
    "\n",
    "plt.hist(images_vis.ravel(), bins=np.linspace(vis_p_min, vis_p_max, 100))\n",
    "plt.xlim(vis_p_min, vis_p_max)\n",
    "\n",
    "plt.show()"
   ]
  },
  {
   "cell_type": "code",
   "execution_count": 5,
   "metadata": {},
   "outputs": [
    {
     "name": "stdout",
     "output_type": "stream",
     "text": [
      "Vis_Min: 0.0 | Vis_Max: 1.0\n"
     ]
    },
    {
     "data": {
      "image/png": "[encoded data removed]",
      "text/plain": [
       "<Figure size 432x288 with 1 Axes>"
      ]
     },
     "metadata": {
      "needs_background": "light"
     },
     "output_type": "display_data"
    }
   ],
   "source": [
    "vis_min = images.min()\n",
    "vis_max = images.max()\n",
    "\n",
    "print(f\"Vis_Min: {vis_min} | Vis_Max: {vis_max}\")\n",
    "\n",
    "plt.hist(images.ravel(), bins=np.linspace(vis_min, vis_max + 0.25, 100))\n",
    "plt.show()"
   ]
  },
  {
   "cell_type": "code",
   "execution_count": 20,
   "metadata": {},
   "outputs": [
    {
     "name": "stdout",
     "output_type": "stream",
     "text": [
      "4.5825408960809e-06\n"
     ]
    },
    {
     "data": {
      "text/plain": [
       "1.9406750095818282e-10"
      ]
     },
     "execution_count": 20,
     "metadata": {},
     "output_type": "execute_result"
    }
   ],
   "source": [
    "h_max = images_hjy[:,:,:,0].max()\n",
    "print(h_max)\n",
    "h_p_max = np.percentile(images_hjy[:,:,:,0], 98)\n",
    "h_p_max\n"
   ]
  },
  {
   "cell_type": "code",
   "execution_count": 16,
   "metadata": {},
   "outputs": [
    {
     "name": "stdout",
     "output_type": "stream",
     "text": [
      "-4.9064533685916345e-11\n"
     ]
    },
    {
     "data": {
      "text/plain": [
       "-2.4760928082207426e-11"
      ]
     },
     "execution_count": 16,
     "metadata": {},
     "output_type": "execute_result"
    }
   ],
   "source": [
    "h_min = images_hjy[:,:,:,0].min()\n",
    "print(h_min)\n",
    "h_p_min = -(np.percentile(-images_hjy[:,:,:,0], 99.9))\n",
    "h_p_min"
   ]
  },
  {
   "cell_type": "code",
   "execution_count": 21,
   "metadata": {},
   "outputs": [
    {
     "data": {
      "image/png": "[encoded data removed]",
      "text/plain": [
       "<Figure size 432x288 with 1 Axes>"
      ]
     },
     "metadata": {
      "needs_background": "light"
     },
     "output_type": "display_data"
    }
   ],
   "source": [
    "plt.hist(images_hjy[:,:,:,0].ravel(), bins=np.linspace(h_p_min, h_p_max, 100))\n",
    "plt.xlim(h_p_min, h_p_max)\n",
    "plt.show()"
   ]
  },
  {
   "cell_type": "code",
   "execution_count": 25,
   "metadata": {},
   "outputs": [
    {
     "name": "stdout",
     "output_type": "stream",
     "text": [
      "3.905488483724184e-06\n"
     ]
    },
    {
     "data": {
      "text/plain": [
       "1.4528640790434366e-10"
      ]
     },
     "execution_count": 25,
     "metadata": {},
     "output_type": "execute_result"
    }
   ],
   "source": [
    "j_max = images_hjy[:,:,:,1].max()\n",
    "print(j_max)\n",
    "j_p_max = np.percentile(images_hjy[:,:,:,1], 98)\n",
    "j_p_max"
   ]
  },
  {
   "cell_type": "code",
   "execution_count": 23,
   "metadata": {},
   "outputs": [
    {
     "name": "stdout",
     "output_type": "stream",
     "text": [
      "-6.092311377603465e-11\n"
     ]
    },
    {
     "data": {
      "text/plain": [
       "-2.973456141031121e-11"
      ]
     },
     "execution_count": 23,
     "metadata": {},
     "output_type": "execute_result"
    }
   ],
   "source": [
    "j_min = images_hjy[:,:,:,1].min()\n",
    "print(j_min)\n",
    "j_p_min = -(np.percentile(-images_hjy[:,:,:,1], 99.9))\n",
    "j_p_min"
   ]
  },
  {
   "cell_type": "code",
   "execution_count": 26,
   "metadata": {},
   "outputs": [
    {
     "data": {
      "image/png": "[encoded data removed]",
      "text/plain": [
       "<Figure size 432x288 with 1 Axes>"
      ]
     },
     "metadata": {
      "needs_background": "light"
     },
     "output_type": "display_data"
    }
   ],
   "source": [
    "plt.hist(images_hjy[:,:,:,1].ravel(), bins=np.linspace(j_p_min, j_p_max, 100))\n",
    "plt.xlim(j_p_min, j_p_max)\n",
    "plt.show()"
   ]
  },
  {
   "cell_type": "code",
   "execution_count": 30,
   "metadata": {},
   "outputs": [
    {
     "name": "stdout",
     "output_type": "stream",
     "text": [
      "3.1875470085651614e-06\n"
     ]
    },
    {
     "data": {
      "text/plain": [
       "1.0428637467474342e-10"
      ]
     },
     "execution_count": 30,
     "metadata": {},
     "output_type": "execute_result"
    }
   ],
   "source": [
    "y_max = images_hjy[:,:,:,2].max()\n",
    "print(y_max)\n",
    "y_p_max = np.percentile(images_hjy[:,:,:,2], 98)\n",
    "y_p_max"
   ]
  },
  {
   "cell_type": "code",
   "execution_count": 28,
   "metadata": {},
   "outputs": [
    {
     "name": "stdout",
     "output_type": "stream",
     "text": [
      "-5.288770463240944e-11\n"
     ]
    },
    {
     "data": {
      "text/plain": [
       "-2.6795723626071855e-11"
      ]
     },
     "execution_count": 28,
     "metadata": {},
     "output_type": "execute_result"
    }
   ],
   "source": [
    "y_min = images_hjy[:,:,:,2].min()\n",
    "print(y_min)\n",
    "y_p_min = -(np.percentile(-images_hjy[:,:,:,2], 99.9))\n",
    "y_p_min"
   ]
  },
  {
   "cell_type": "code",
   "execution_count": 31,
   "metadata": {},
   "outputs": [
    {
     "data": {
      "image/png": "[encoded data removed]",
      "text/plain": [
       "<Figure size 432x288 with 1 Axes>"
      ]
     },
     "metadata": {
      "needs_background": "light"
     },
     "output_type": "display_data"
    }
   ],
   "source": [
    "plt.hist(images_hjy[:,:,:,2].ravel(), bins=np.linspace(y_p_min, y_p_max, 100))\n",
    "plt.xlim(y_p_min, y_p_max)\n",
    "plt.show()"
   ]
  },
  {
   "cell_type": "code",
   "execution_count": null,
   "metadata": {},
   "outputs": [],
   "source": []
  },
  {
   "cell_type": "code",
   "execution_count": null,
   "metadata": {},
   "outputs": [],
   "source": []
  },
  {
   "cell_type": "markdown",
   "metadata": {},
   "source": [
    "### Normalize images and apply log"
   ]
  },
  {
   "cell_type": "code",
   "execution_count": 32,
   "metadata": {},
   "outputs": [
    {
     "name": "stdout",
     "output_type": "stream",
     "text": [
      "0.0 1.0\n"
     ]
    }
   ],
   "source": [
    "#VIS\n",
    "\n",
    "images_vis = np.clip(images_vis, vis_p_min, vis_p_max)\n",
    "images_vis = (images_vis - vis_p_min)/(vis_p_max - vis_p_min)\n",
    "print(images_vis.min(), images_vis.max())\n"
   ]
  },
  {
   "cell_type": "code",
   "execution_count": 33,
   "metadata": {},
   "outputs": [],
   "source": [
    "np.save(os.path.join(data_dir,'images_vis_normalized.npy'), images_vis)"
   ]
  },
  {
   "cell_type": "code",
   "execution_count": 34,
   "metadata": {},
   "outputs": [
    {
     "name": "stdout",
     "output_type": "stream",
     "text": [
      "0.0 1.0\n"
     ]
    }
   ],
   "source": [
    "#H\n",
    "\n",
    "images_hjy[:,:,:,0] = np.clip(images_hjy[:,:,:,0], h_p_min, h_p_max)\n",
    "images_hjy[:,:,:,0] = (images_hjy[:,:,:,0] - h_p_min)/(h_p_max - h_p_min)\n",
    "print(images_hjy[:,:,:,0].min(), images_hjy[:,:,:,0].max())\n",
    "\n"
   ]
  },
  {
   "cell_type": "code",
   "execution_count": 35,
   "metadata": {},
   "outputs": [
    {
     "name": "stdout",
     "output_type": "stream",
     "text": [
      "0.0 1.0\n"
     ]
    }
   ],
   "source": [
    "#J\n",
    "\n",
    "images_hjy[:,:,:,1] = np.clip(images_hjy[:,:,:,1], j_p_min, j_p_max)\n",
    "images_hjy[:,:,:,1] = (images_hjy[:,:,:,1] - j_p_min)/(j_p_max - j_p_min)\n",
    "print(images_hjy[:,:,:,1].min(), images_hjy[:,:,:,1].max())\n",
    "\n"
   ]
  },
  {
   "cell_type": "code",
   "execution_count": 36,
   "metadata": {},
   "outputs": [
    {
     "name": "stdout",
     "output_type": "stream",
     "text": [
      "0.0 1.0\n"
     ]
    }
   ],
   "source": [
    "#Y\n",
    "\n",
    "images_hjy[:,:,:,2] = np.clip(images_hjy[:,:,:,2], y_p_min, y_p_max)\n",
    "images_hjy[:,:,:,2] = (images_hjy[:,:,:,2] - y_p_min)/(y_p_max - y_p_min)\n",
    "print(images_hjy[:,:,:,2].min(), images_hjy[:,:,:,2].max())\n",
    "\n"
   ]
  },
  {
   "cell_type": "code",
   "execution_count": 37,
   "metadata": {},
   "outputs": [],
   "source": [
    "np.save(os.path.join(data_dir,'images_hjy_normalized.npy'), images_hjy)"
   ]
  },
  {
   "cell_type": "code",
   "execution_count": 2,
   "metadata": {},
   "outputs": [],
   "source": [
    "data_dir = '/home/dados229/cenpes/DataChallenge2/'\n",
    "\n",
    "images_vis = np.load(os.path.join(data_dir,'images_vis_normalized.npy'))\n",
    "images_hjy = np.load(os.path.join(data_dir,'images_hjy_normalized.npy'))"
   ]
  },
  {
   "cell_type": "code",
   "execution_count": 7,
   "metadata": {},
   "outputs": [],
   "source": [
    "del images_hjy"
   ]
  },
  {
   "cell_type": "code",
   "execution_count": 11,
   "metadata": {},
   "outputs": [
    {
     "data": {
      "text/plain": [
       "(99991, 66, 66, 1)"
      ]
     },
     "execution_count": 11,
     "metadata": {},
     "output_type": "execute_result"
    }
   ],
   "source": [
    "import cv2\n",
    "\n",
    "resized = []\n",
    "for i in range(images_vis.shape[0]):\n",
    "    tmp = cv2.resize(images_vis[i], (66,66))\n",
    "    tmp = tmp.reshape(66,66,1)\n",
    "    \n",
    "    \n",
    "    resized.append(tmp)\n",
    "    \n",
    "    \"\"\"\n",
    "    if i == 0:\n",
    "        resized = tmp\n",
    "    else:\n",
    "        resized = np.concatenate([resized,tmp], axis=0)\n",
    "    \"\"\"\n",
    "resized = np.stack(resized, axis=0)\n",
    "resized.shape"
   ]
  },
  {
   "cell_type": "code",
   "execution_count": null,
   "metadata": {},
   "outputs": [],
   "source": []
  },
  {
   "cell_type": "code",
   "execution_count": 12,
   "metadata": {},
   "outputs": [],
   "source": [
    "del images_vis\n"
   ]
  },
  {
   "cell_type": "code",
   "execution_count": 13,
   "metadata": {},
   "outputs": [
    {
     "data": {
      "text/plain": [
       "(99991, 66, 66, 4)"
      ]
     },
     "execution_count": 13,
     "metadata": {},
     "output_type": "execute_result"
    }
   ],
   "source": [
    "images_hjy = np.load(os.path.join(data_dir,'images_hjy_normalized.npy'))\n",
    "\n",
    "all_in = np.concatenate([images_hjy, resized], axis=-1)\n",
    "all_in.shape"
   ]
  },
  {
   "cell_type": "code",
   "execution_count": 14,
   "metadata": {},
   "outputs": [],
   "source": [
    "np.save(os.path.join(data_dir,'images_all_in.npy'), all_in)"
   ]
  },
  {
   "cell_type": "markdown",
   "metadata": {},
   "source": [
    "### Build is_lens condition"
   ]
  },
  {
   "cell_type": "code",
   "execution_count": 7,
   "metadata": {},
   "outputs": [
    {
     "name": "stdout",
     "output_type": "stream",
     "text": [
      "0     True\n",
      "1     True\n",
      "2    False\n",
      "dtype: bool\n"
     ]
    }
   ],
   "source": [
    "is_lens = (catalog['n_source_im'] > 0) & (catalog['mag_eff'] > 1.6) & (catalog['n_pix_source'] > 20)\n",
    "print(is_lens[:3])# 700\n",
    "is_lens = 1.0*is_lens\n",
    "from keras.utils import to_categorical\n",
    "is_lens = to_categorical(is_lens, 2)"
   ]
  },
  {
   "cell_type": "code",
   "execution_count": 8,
   "metadata": {},
   "outputs": [
    {
     "data": {
      "text/plain": [
       "array([[0., 1.],\n",
       "       [0., 1.],\n",
       "       [1., 0.]], dtype=float32)"
      ]
     },
     "execution_count": 8,
     "metadata": {},
     "output_type": "execute_result"
    }
   ],
   "source": [
    "is_lens[:3]"
   ]
  },
  {
   "cell_type": "code",
   "execution_count": null,
   "metadata": {},
   "outputs": [],
   "source": []
  }
 ],
 "metadata": {
  "kernelspec": {
   "display_name": "Python 3",
   "language": "python",
   "name": "python3"
  },
  "language_info": {
   "codemirror_mode": {
    "name": "ipython",
    "version": 3
   },
   "file_extension": ".py",
   "mimetype": "text/x-python",
   "name": "python",
   "nbconvert_exporter": "python",
   "pygments_lexer": "ipython3",
   "version": "3.7.6"
  }
 },
 "nbformat": 4,
 "nbformat_minor": 4
}